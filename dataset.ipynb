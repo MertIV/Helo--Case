{
 "cells": [
  {
   "cell_type": "markdown",
   "metadata": {},
   "source": [
    "# Pipeline to Conclusion\n",
    "> ##          Acquiring Related Market Data --> Analysis --> Inferences --> Expanding Information for Future Use and Consistency\n"
   ]
  },
  {
   "cell_type": "markdown",
   "metadata": {},
   "source": [
    "### Web Scrape for the Data\n",
    "\n",
    "I've used a chrome extension and a little html knowledge to get this data.\n",
    "My sources consist of\n",
    "- for the global and Usa market are : builtin.com and 500startups \n",
    "- for the Turkey market are : startup borsa and startup market\n",
    "\n",
    "You can see the related snippets below for imports of used packages and dataframes\n"
   ]
  },
  {
   "cell_type": "code",
   "execution_count": 116,
   "metadata": {},
   "outputs": [],
   "source": [
    "#Related Imports\n",
    "import pandas as pd\n",
    "from fuzzywuzzy import fuzz\n",
    "from fuzzywuzzy import process"
   ]
  },
  {
   "cell_type": "markdown",
   "metadata": {},
   "source": [
    "#### Turkey Marketplace\n"
   ]
  },
  {
   "cell_type": "code",
   "execution_count": 117,
   "metadata": {},
   "outputs": [],
   "source": [
    "df_smarket_hr = pd.read_csv(r'csv/hr_startupmarket.csv')\n",
    "df_smarket_hr = df_smarket_hr.drop(['web-scraper-order', 'web-scraper-start-url'], axis=1)\n",
    "\n",
    "df_sborsa_all = pd.read_csv(r'csv/startup_borsa.csv')\n",
    "df_sborsa_all = df_sborsa_all.drop(['web-scraper-order', 'web-scraper-start-url'], axis=1)\n",
    "\n",
    "#filtered\n",
    "df_sborsa_hr = df_sborsa_all[(df_sborsa_all.sector == 'İnsan Kaynakları & İşe Alım')]"
   ]
  },
  {
   "cell_type": "markdown",
   "metadata": {},
   "source": [
    "#### Global Marketplace includes Turkey\n"
   ]
  },
  {
   "cell_type": "code",
   "execution_count": null,
   "metadata": {},
   "outputs": [],
   "source": [
    "df_500_hr = pd.read_csv(r'csv/HR_500startup.csv')\n",
    "df_500_hr = df_500_hr.rename({'name':'title'}, axis=1)\n",
    "df_500_hr = df_500_hr.drop(['web-scraper-order', 'web-scraper-start-url'], axis=1)\n",
    "\n",
    "#filtered\n",
    "df_500_hr_turkey = df_500_hr[(df_500_hr.location == 'Turkey')]"
   ]
  },
  {
   "cell_type": "markdown",
   "metadata": {},
   "source": [
    "#### USA Marketplace\n"
   ]
  },
  {
   "cell_type": "code",
   "execution_count": null,
   "metadata": {},
   "outputs": [],
   "source": [
    "df_builtin_hr = pd.read_csv(r'csv/builtin_hr.csv')\n",
    "df_builtin_hr = df_builtin_hr.drop(['web-scraper-order', 'web-scraper-start-url'], axis=1)"
   ]
  },
  {
   "cell_type": "markdown",
   "metadata": {},
   "source": [
    "### I have covered the general tasks of HR for subsector classification and how they can be extended. While these tasks vary from source to source, these are the common ones on many:\n",
    "- Recruiting and staffing employees\n",
    "- Employee benefits\n",
    "- Employee compensation\n",
    "- Employee and labor relations\n",
    "- Human resources compliance\n",
    "- Organizational structure\n",
    "- Human resources information and payroll\n",
    "- Employee training and development\n",
    "\n",
    "\n",
    "#### After getting involved with sector columns in our data I can say that"
   ]
  },
  {
   "cell_type": "code",
   "execution_count": 82,
   "metadata": {},
   "outputs": [],
   "source": [
    "#Subsections on 500Startup\n",
    "subsections = df_500_hr['sector'].unique()"
   ]
  },
  {
   "cell_type": "markdown",
   "metadata": {},
   "source": [
    "### Merging subsections with other contexts are : \n",
    "- Personnel / Benefits\n",
    "- Professional training\n",
    "- College & Continuing Education\n",
    "- Recruiting\n",
    "- Tools & Services\n",
    "- Legal services\n",
    "- Infrastructure\n",
    "- Collaboration"
   ]
  },
  {
   "cell_type": "markdown",
   "metadata": {},
   "source": [
    "### Now having bunch of startups to investigate I need to make selection for which ones to analyze because our time is limited and this part is not automated\n",
    "#### For making this selection I've looked up the common startups which held in different dataframes.\n",
    "\n",
    "Technical approach of this task is to use string matcher method like fuzzy. You can see the related code below."
   ]
  },
  {
   "cell_type": "code",
   "execution_count": 119,
   "metadata": {},
   "outputs": [],
   "source": [
    "#function for string matching this will help to choose the common titles in datasets so we can find most related ones and lean on them \n",
    "def fuzzy_merge(df_1, df_2, key1, key2, threshold=90, limit=2):\n",
    "    s = df_2[key2].tolist()\n",
    "    \n",
    "    m = df_1[key1].apply(lambda x: process.extract(x, s, limit=limit))    \n",
    "    df_1['matches'] = m\n",
    "    \n",
    "    m2 = df_1['matches'].apply(lambda x: ', '.join([i[0] for i in x if i[1] >= threshold]))\n",
    "    df_1['matches'] = m2\n",
    "    \n",
    "    return df_1"
   ]
  },
  {
   "cell_type": "markdown",
   "metadata": {},
   "source": [
    "#### For the Turkey Market I have 3 different combinations to look at we can see the concurrent titles below"
   ]
  },
  {
   "cell_type": "code",
   "execution_count": 120,
   "metadata": {},
   "outputs": [
    {
     "data": {
      "text/html": [
       "<div>\n",
       "<style scoped>\n",
       "    .dataframe tbody tr th:only-of-type {\n",
       "        vertical-align: middle;\n",
       "    }\n",
       "\n",
       "    .dataframe tbody tr th {\n",
       "        vertical-align: top;\n",
       "    }\n",
       "\n",
       "    .dataframe thead th {\n",
       "        text-align: right;\n",
       "    }\n",
       "</style>\n",
       "<table border=\"1\" class=\"dataframe\">\n",
       "  <thead>\n",
       "    <tr style=\"text-align: right;\">\n",
       "      <th></th>\n",
       "      <th>title</th>\n",
       "      <th>context</th>\n",
       "      <th>link</th>\n",
       "      <th>link-href</th>\n",
       "      <th>logo-src</th>\n",
       "      <th>matches</th>\n",
       "    </tr>\n",
       "  </thead>\n",
       "  <tbody>\n",
       "    <tr>\n",
       "      <th>14</th>\n",
       "      <td>Kolay İK</td>\n",
       "      <td>İşinizi kolaylaştırır.</td>\n",
       "      <td>İncele</td>\n",
       "      <td>https://startupmarket.co/kolay-ik</td>\n",
       "      <td>https://startupmarket.co/cache/100x100/upload/...</td>\n",
       "      <td>KolayIK</td>\n",
       "    </tr>\n",
       "  </tbody>\n",
       "</table>\n",
       "</div>"
      ],
      "text/plain": [
       "       title                 context    link  \\\n",
       "14  Kolay İK  İşinizi kolaylaştırır.  İncele   \n",
       "\n",
       "                            link-href  \\\n",
       "14  https://startupmarket.co/kolay-ik   \n",
       "\n",
       "                                             logo-src  matches  \n",
       "14  https://startupmarket.co/cache/100x100/upload/...  KolayIK  "
      ]
     },
     "execution_count": 120,
     "metadata": {},
     "output_type": "execute_result"
    }
   ],
   "source": [
    "s500_match_df = fuzzy_merge(df_smarket_hr, df_500_hr_turkey, 'title', 'title', threshold=80)\n",
    "s500_match_df[(s500_match_df.matches != '')]"
   ]
  },
  {
   "cell_type": "markdown",
   "metadata": {},
   "source": [
    "Only common startup in here is Kolay IK\n"
   ]
  },
  {
   "cell_type": "code",
   "execution_count": null,
   "metadata": {},
   "outputs": [],
   "source": [
    "borsa500_match_df = fuzzy_merge(df_500_hr_turkey, df_sborsa_hr, 'title', 'title', threshold=80)\n",
    "borsa500_match_df[(borsa500_match_df.matches != '')]"
   ]
  },
  {
   "cell_type": "markdown",
   "metadata": {},
   "source": [
    "As we can see 500 Startups and Startup Borsa do not have any startup in common\n"
   ]
  },
  {
   "cell_type": "code",
   "execution_count": 134,
   "metadata": {},
   "outputs": [
    {
     "data": {
      "text/html": [
       "<div>\n",
       "<style scoped>\n",
       "    .dataframe tbody tr th:only-of-type {\n",
       "        vertical-align: middle;\n",
       "    }\n",
       "\n",
       "    .dataframe tbody tr th {\n",
       "        vertical-align: top;\n",
       "    }\n",
       "\n",
       "    .dataframe thead th {\n",
       "        text-align: right;\n",
       "    }\n",
       "</style>\n",
       "<table border=\"1\" class=\"dataframe\">\n",
       "  <thead>\n",
       "    <tr style=\"text-align: right;\">\n",
       "      <th></th>\n",
       "      <th>title</th>\n",
       "      <th>sector</th>\n",
       "      <th>context</th>\n",
       "      <th>matches</th>\n",
       "    </tr>\n",
       "  </thead>\n",
       "  <tbody>\n",
       "    <tr>\n",
       "      <th>49</th>\n",
       "      <td>SmartCV Teknoloji AŞ</td>\n",
       "      <td>İnsan Kaynakları &amp; İşe Alım</td>\n",
       "      <td>İşe alımda oyunlaştırma teknolojisi ve ML kull...</td>\n",
       "      <td>SmartCV</td>\n",
       "    </tr>\n",
       "    <tr>\n",
       "      <th>55</th>\n",
       "      <td>FlexyTime</td>\n",
       "      <td>SaaS</td>\n",
       "      <td>FlexyTime evden veya ofisten verimli çalışması...</td>\n",
       "      <td>FlexyTime</td>\n",
       "    </tr>\n",
       "    <tr>\n",
       "      <th>66</th>\n",
       "      <td>İdenfit</td>\n",
       "      <td>Yazılım</td>\n",
       "      <td>Idenfit; insan kaynakları yönetimine, bütüncül...</td>\n",
       "      <td>Idenfit</td>\n",
       "    </tr>\n",
       "    <tr>\n",
       "      <th>125</th>\n",
       "      <td>Yersonel.com</td>\n",
       "      <td>İnsan Kaynakları &amp; İşe Alım</td>\n",
       "      <td>Yersonel.com gastronomi sektörüne odaklanmış k...</td>\n",
       "      <td>Yersonel.com</td>\n",
       "    </tr>\n",
       "    <tr>\n",
       "      <th>134</th>\n",
       "      <td>Smarthronline</td>\n",
       "      <td>İnsan Kaynakları &amp; İşe Alım</td>\n",
       "      <td>Online career platform connecting logistics pr...</td>\n",
       "      <td>Smarthronline</td>\n",
       "    </tr>\n",
       "    <tr>\n",
       "      <th>206</th>\n",
       "      <td>Verified by Sertifier INC.</td>\n",
       "      <td>Eğitim &amp; Eğitim Teknolojileri</td>\n",
       "      <td>Verified, Sertifier INC. tarafından geliştiril...</td>\n",
       "      <td>Sertifier</td>\n",
       "    </tr>\n",
       "    <tr>\n",
       "      <th>214</th>\n",
       "      <td>ilk-is.com</td>\n",
       "      <td>İnsan Kaynakları &amp; İşe Alım</td>\n",
       "      <td>İş arayan veya iş başvurusu yapmak isteyen her...</td>\n",
       "      <td>ilk-is</td>\n",
       "    </tr>\n",
       "    <tr>\n",
       "      <th>237</th>\n",
       "      <td>Ara</td>\n",
       "      <td>Tüketici Hizmetleri</td>\n",
       "      <td>“Türkiye’nin Hizmet Arama Motoru” sloganıyla e...</td>\n",
       "      <td>Zumbara Zaman Kumbarası</td>\n",
       "    </tr>\n",
       "    <tr>\n",
       "      <th>254</th>\n",
       "      <td>Test Invite</td>\n",
       "      <td>Eğitim &amp; Eğitim Teknolojileri</td>\n",
       "      <td>Test Invite, sınav ve ölçme-değerlendirme süre...</td>\n",
       "      <td>Test Invite</td>\n",
       "    </tr>\n",
       "    <tr>\n",
       "      <th>267</th>\n",
       "      <td>DinamikCRM</td>\n",
       "      <td>SaaS</td>\n",
       "      <td>DinamikCRM yaklaşık 1 yıl süren ürün hazırlıkl...</td>\n",
       "      <td>DinamikCRM</td>\n",
       "    </tr>\n",
       "    <tr>\n",
       "      <th>273</th>\n",
       "      <td>Bijunior</td>\n",
       "      <td>İnsan Kaynakları &amp; İşe Alım</td>\n",
       "      <td>Dijital ve Kreatif Dünyanın İş İlanı / İş Bulm...</td>\n",
       "      <td>Bijunior</td>\n",
       "    </tr>\n",
       "    <tr>\n",
       "      <th>281</th>\n",
       "      <td>Earnado</td>\n",
       "      <td>Reklam &amp; Pazarlama</td>\n",
       "      <td>Google, Facebook ve rakiplerin davranışlarında...</td>\n",
       "      <td>Earnado</td>\n",
       "    </tr>\n",
       "    <tr>\n",
       "      <th>284</th>\n",
       "      <td>Youthall</td>\n",
       "      <td>İnsan Kaynakları &amp; İşe Alım</td>\n",
       "      <td>Youthall, 2014 yılında 2 girişimci tarafından ...</td>\n",
       "      <td>Youthall</td>\n",
       "    </tr>\n",
       "    <tr>\n",
       "      <th>285</th>\n",
       "      <td>OtherSide Esports</td>\n",
       "      <td>Oyun</td>\n",
       "      <td>OtherSide Esport #actforequal destekçisi, Türk...</td>\n",
       "      <td>Others</td>\n",
       "    </tr>\n",
       "    <tr>\n",
       "      <th>286</th>\n",
       "      <td>Humanup</td>\n",
       "      <td>NaN</td>\n",
       "      <td>NaN</td>\n",
       "      <td>Humanup</td>\n",
       "    </tr>\n",
       "    <tr>\n",
       "      <th>330</th>\n",
       "      <td>Perwatch</td>\n",
       "      <td>Yazılım</td>\n",
       "      <td>Perwatch, takip verilerini gelişmiş analiz mod...</td>\n",
       "      <td>Perwatch</td>\n",
       "    </tr>\n",
       "  </tbody>\n",
       "</table>\n",
       "</div>"
      ],
      "text/plain": [
       "                          title                         sector  \\\n",
       "49         SmartCV Teknoloji AŞ    İnsan Kaynakları & İşe Alım   \n",
       "55                    FlexyTime                           SaaS   \n",
       "66                      İdenfit                        Yazılım   \n",
       "125                Yersonel.com    İnsan Kaynakları & İşe Alım   \n",
       "134               Smarthronline    İnsan Kaynakları & İşe Alım   \n",
       "206  Verified by Sertifier INC.  Eğitim & Eğitim Teknolojileri   \n",
       "214                  ilk-is.com    İnsan Kaynakları & İşe Alım   \n",
       "237                         Ara            Tüketici Hizmetleri   \n",
       "254                 Test Invite  Eğitim & Eğitim Teknolojileri   \n",
       "267                  DinamikCRM                           SaaS   \n",
       "273                    Bijunior    İnsan Kaynakları & İşe Alım   \n",
       "281                     Earnado             Reklam & Pazarlama   \n",
       "284                    Youthall    İnsan Kaynakları & İşe Alım   \n",
       "285           OtherSide Esports                           Oyun   \n",
       "286                     Humanup                            NaN   \n",
       "330                    Perwatch                        Yazılım   \n",
       "\n",
       "                                               context  \\\n",
       "49   İşe alımda oyunlaştırma teknolojisi ve ML kull...   \n",
       "55   FlexyTime evden veya ofisten verimli çalışması...   \n",
       "66   Idenfit; insan kaynakları yönetimine, bütüncül...   \n",
       "125  Yersonel.com gastronomi sektörüne odaklanmış k...   \n",
       "134  Online career platform connecting logistics pr...   \n",
       "206  Verified, Sertifier INC. tarafından geliştiril...   \n",
       "214  İş arayan veya iş başvurusu yapmak isteyen her...   \n",
       "237  “Türkiye’nin Hizmet Arama Motoru” sloganıyla e...   \n",
       "254  Test Invite, sınav ve ölçme-değerlendirme süre...   \n",
       "267  DinamikCRM yaklaşık 1 yıl süren ürün hazırlıkl...   \n",
       "273  Dijital ve Kreatif Dünyanın İş İlanı / İş Bulm...   \n",
       "281  Google, Facebook ve rakiplerin davranışlarında...   \n",
       "284  Youthall, 2014 yılında 2 girişimci tarafından ...   \n",
       "285  OtherSide Esport #actforequal destekçisi, Türk...   \n",
       "286                                                NaN   \n",
       "330  Perwatch, takip verilerini gelişmiş analiz mod...   \n",
       "\n",
       "                     matches  \n",
       "49                   SmartCV  \n",
       "55                 FlexyTime  \n",
       "66                   Idenfit  \n",
       "125             Yersonel.com  \n",
       "134            Smarthronline  \n",
       "206                Sertifier  \n",
       "214                   ilk-is  \n",
       "237  Zumbara Zaman Kumbarası  \n",
       "254              Test Invite  \n",
       "267               DinamikCRM  \n",
       "273                 Bijunior  \n",
       "281                  Earnado  \n",
       "284                 Youthall  \n",
       "285                   Others  \n",
       "286                  Humanup  \n",
       "330                 Perwatch  "
      ]
     },
     "execution_count": 134,
     "metadata": {},
     "output_type": "execute_result"
    }
   ],
   "source": [
    "marketborsa_match_df = fuzzy_merge(df_sborsa_all, df_smarket_hr, 'title', 'title', threshold=90)\n",
    "marketborsa_match_df[(marketborsa_match_df.matches != '')]"
   ]
  },
  {
   "cell_type": "markdown",
   "metadata": {},
   "source": [
    "Except some dummy matches like \n",
    "> - ara - zumbara \n",
    "> - otherside esports - others\n",
    "\n",
    "conclusions are satisfactory.\n",
    "\n",
    "With this merge we can lookup to these startups as a starter for the Turkey Market for the limited time being.\n"
   ]
  }
 ],
 "metadata": {
  "interpreter": {
   "hash": "ac59ebe37160ed0dfa835113d9b8498d9f09ceb179beaac4002f036b9467c963"
  },
  "kernelspec": {
   "display_name": "Python 3.9.5 64-bit",
   "language": "python",
   "name": "python3"
  },
  "language_info": {
   "codemirror_mode": {
    "name": "ipython",
    "version": 3
   },
   "file_extension": ".py",
   "mimetype": "text/x-python",
   "name": "python",
   "nbconvert_exporter": "python",
   "pygments_lexer": "ipython3",
   "version": "3.9.5"
  },
  "orig_nbformat": 4
 },
 "nbformat": 4,
 "nbformat_minor": 2
}
