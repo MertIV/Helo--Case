{
 "cells": [
  {
   "cell_type": "markdown",
   "metadata": {},
   "source": [
    "# Pipeline to Conclusion\n",
    "> ##          Acquiring Related Market Data --> Analysis --> Inferences --> Expanding Information for Future Use and Consistency\n"
   ]
  },
  {
   "cell_type": "markdown",
   "metadata": {},
   "source": [
    "### Web Scrape for the Data\n",
    "\n",
    "I've used some packages and a little html knowledge to get this data.\n",
    "My sources consist of\n",
    "- for the global and Usa market are : builtin.com and 500startups \n",
    "- for the Turkey market are : startup borsa and startup market\n",
    "\n",
    "You can see the related snippets below for imports of used packages and dataframes\n"
   ]
  },
  {
   "cell_type": "code",
   "execution_count": 140,
   "metadata": {},
   "outputs": [],
   "source": [
    "#Related Imports\n",
    "import pandas as pd\n",
    "from fuzzywuzzy import fuzz\n",
    "from fuzzywuzzy import process"
   ]
  },
  {
   "cell_type": "markdown",
   "metadata": {},
   "source": [
    "#### Turkey Marketplace\n"
   ]
  },
  {
   "cell_type": "code",
   "execution_count": 141,
   "metadata": {},
   "outputs": [],
   "source": [
    "df_smarket_hr = pd.read_csv(r'csv/hr_startupmarket.csv')\n",
    "df_smarket_hr = df_smarket_hr.drop(['web-scraper-order', 'web-scraper-start-url'], axis=1)\n",
    "\n",
    "df_sborsa_all = pd.read_csv(r'csv/startup_borsa.csv')\n",
    "df_sborsa_all = df_sborsa_all.drop(['web-scraper-order', 'web-scraper-start-url'], axis=1)\n",
    "\n",
    "#filtered\n",
    "df_sborsa_hr = df_sborsa_all[(df_sborsa_all.sector == 'İnsan Kaynakları & İşe Alım')]"
   ]
  },
  {
   "cell_type": "markdown",
   "metadata": {},
   "source": [
    "#### Global Marketplace includes Turkey\n"
   ]
  },
  {
   "cell_type": "code",
   "execution_count": 142,
   "metadata": {},
   "outputs": [],
   "source": [
    "df_500_hr = pd.read_csv(r'csv/HR_500startup.csv')\n",
    "df_500_hr = df_500_hr.rename({'name':'title'}, axis=1)\n",
    "df_500_hr = df_500_hr.drop(['web-scraper-order', 'web-scraper-start-url'], axis=1)\n",
    "\n",
    "#filtered\n",
    "df_500_hr_turkey = df_500_hr[(df_500_hr.location == 'Turkey')]"
   ]
  },
  {
   "cell_type": "markdown",
   "metadata": {},
   "source": [
    "#### USA Marketplace\n"
   ]
  },
  {
   "cell_type": "code",
   "execution_count": 143,
   "metadata": {},
   "outputs": [],
   "source": [
    "df_builtin_hr = pd.read_csv(r'csv/builtin_hr.csv')\n",
    "df_builtin_hr = df_builtin_hr.drop(['web-scraper-order', 'web-scraper-start-url'], axis=1)"
   ]
  },
  {
   "cell_type": "markdown",
   "metadata": {},
   "source": [
    "### I have covered the general tasks of HR for subsector classification and how they can be extended. While these tasks vary from source to source, these are the common ones on many:\n",
    "- Recruiting and staffing employees\n",
    "- Employee benefits\n",
    "- Employee compensation\n",
    "- Employee and labor relations\n",
    "- Human resources compliance\n",
    "- Organizational structure\n",
    "- Human resources information and payroll\n",
    "- Employee training and development\n",
    "\n",
    "\n",
    "#### After getting involved with sector columns in our data I can say that"
   ]
  },
  {
   "cell_type": "code",
   "execution_count": 144,
   "metadata": {},
   "outputs": [],
   "source": [
    "#Subsections on 500Startup\n",
    "subsections = df_500_hr['sector'].unique()"
   ]
  },
  {
   "cell_type": "markdown",
   "metadata": {},
   "source": [
    "### Merging subsections with other contexts are : \n",
    "- Personnel / Benefits\n",
    "- Professional training\n",
    "- College & Continuing Education\n",
    "- Recruiting\n",
    "- Tools & Services\n",
    "- Legal services\n",
    "- Infrastructure\n",
    "- Collaboration"
   ]
  },
  {
   "cell_type": "markdown",
   "metadata": {},
   "source": [
    "### Now having bunch of startups to investigate I need to make selection for which ones to analyze because our time is limited and this part is not automated\n",
    "#### For making this selection I've looked up the common startups which held in different dataframes.\n",
    "\n",
    "Technical approach of this task is to use string matcher method like fuzzy. You can see the related code below."
   ]
  },
  {
   "cell_type": "code",
   "execution_count": 145,
   "metadata": {},
   "outputs": [],
   "source": [
    "#function for string matching this will help to choose the common titles in datasets so we can find most related ones and lean on them \n",
    "def fuzzy_merge(df_1, df_2, key1, key2, threshold=90, limit=2):\n",
    "    s = df_2[key2].tolist()\n",
    "    \n",
    "    m = df_1[key1].apply(lambda x: process.extract(x, s, limit=limit))    \n",
    "    df_1['matches'] = m\n",
    "    \n",
    "    m2 = df_1['matches'].apply(lambda x: ', '.join([i[0] for i in x if i[1] >= threshold]))\n",
    "    df_1['matches'] = m2\n",
    "    \n",
    "    return df_1"
   ]
  },
  {
   "cell_type": "markdown",
   "metadata": {},
   "source": [
    "#### For the Turkey Market I have 3 different combinations to look at we can see the concurrent titles below"
   ]
  },
  {
   "cell_type": "code",
   "execution_count": 146,
   "metadata": {},
   "outputs": [
    {
     "data": {
      "text/html": [
       "<div>\n",
       "<style scoped>\n",
       "    .dataframe tbody tr th:only-of-type {\n",
       "        vertical-align: middle;\n",
       "    }\n",
       "\n",
       "    .dataframe tbody tr th {\n",
       "        vertical-align: top;\n",
       "    }\n",
       "\n",
       "    .dataframe thead th {\n",
       "        text-align: right;\n",
       "    }\n",
       "</style>\n",
       "<table border=\"1\" class=\"dataframe\">\n",
       "  <thead>\n",
       "    <tr style=\"text-align: right;\">\n",
       "      <th></th>\n",
       "      <th>title</th>\n",
       "      <th>context</th>\n",
       "      <th>link</th>\n",
       "      <th>link-href</th>\n",
       "      <th>logo-src</th>\n",
       "      <th>matches</th>\n",
       "    </tr>\n",
       "  </thead>\n",
       "  <tbody>\n",
       "    <tr>\n",
       "      <th>14</th>\n",
       "      <td>Kolay İK</td>\n",
       "      <td>İşinizi kolaylaştırır.</td>\n",
       "      <td>İncele</td>\n",
       "      <td>https://startupmarket.co/kolay-ik</td>\n",
       "      <td>https://startupmarket.co/cache/100x100/upload/...</td>\n",
       "      <td>KolayIK</td>\n",
       "    </tr>\n",
       "  </tbody>\n",
       "</table>\n",
       "</div>"
      ],
      "text/plain": [
       "       title                 context    link  \\\n",
       "14  Kolay İK  İşinizi kolaylaştırır.  İncele   \n",
       "\n",
       "                            link-href  \\\n",
       "14  https://startupmarket.co/kolay-ik   \n",
       "\n",
       "                                             logo-src  matches  \n",
       "14  https://startupmarket.co/cache/100x100/upload/...  KolayIK  "
      ]
     },
     "execution_count": 146,
     "metadata": {},
     "output_type": "execute_result"
    }
   ],
   "source": [
    "s500_match_df = fuzzy_merge(df_smarket_hr, df_500_hr_turkey, 'title', 'title', threshold=80)\n",
    "s500_match_df[(s500_match_df.matches != '')]"
   ]
  },
  {
   "cell_type": "markdown",
   "metadata": {},
   "source": [
    "Only common startup in here is Kolay IK\n"
   ]
  },
  {
   "cell_type": "code",
   "execution_count": null,
   "metadata": {},
   "outputs": [],
   "source": [
    "borsa500_match_df = fuzzy_merge(df_500_hr_turkey, df_sborsa_hr, 'title', 'title', threshold=80)\n",
    "borsa500_match_df[(borsa500_match_df.matches != '')]"
   ]
  },
  {
   "cell_type": "markdown",
   "metadata": {},
   "source": [
    "As we can see 500 Startups and Startup Borsa do not have any startup in common\n"
   ]
  },
  {
   "cell_type": "code",
   "execution_count": 148,
   "metadata": {},
   "outputs": [
    {
     "data": {
      "text/html": [
       "<div>\n",
       "<style scoped>\n",
       "    .dataframe tbody tr th:only-of-type {\n",
       "        vertical-align: middle;\n",
       "    }\n",
       "\n",
       "    .dataframe tbody tr th {\n",
       "        vertical-align: top;\n",
       "    }\n",
       "\n",
       "    .dataframe thead th {\n",
       "        text-align: right;\n",
       "    }\n",
       "</style>\n",
       "<table border=\"1\" class=\"dataframe\">\n",
       "  <thead>\n",
       "    <tr style=\"text-align: right;\">\n",
       "      <th></th>\n",
       "      <th>title</th>\n",
       "      <th>sector</th>\n",
       "      <th>context</th>\n",
       "      <th>matches</th>\n",
       "    </tr>\n",
       "  </thead>\n",
       "  <tbody>\n",
       "    <tr>\n",
       "      <th>49</th>\n",
       "      <td>SmartCV Teknoloji AŞ</td>\n",
       "      <td>İnsan Kaynakları &amp; İşe Alım</td>\n",
       "      <td>İşe alımda oyunlaştırma teknolojisi ve ML kull...</td>\n",
       "      <td>SmartCV</td>\n",
       "    </tr>\n",
       "    <tr>\n",
       "      <th>55</th>\n",
       "      <td>FlexyTime</td>\n",
       "      <td>SaaS</td>\n",
       "      <td>FlexyTime evden veya ofisten verimli çalışması...</td>\n",
       "      <td>FlexyTime</td>\n",
       "    </tr>\n",
       "    <tr>\n",
       "      <th>66</th>\n",
       "      <td>İdenfit</td>\n",
       "      <td>Yazılım</td>\n",
       "      <td>Idenfit; insan kaynakları yönetimine, bütüncül...</td>\n",
       "      <td>Idenfit</td>\n",
       "    </tr>\n",
       "    <tr>\n",
       "      <th>125</th>\n",
       "      <td>Yersonel.com</td>\n",
       "      <td>İnsan Kaynakları &amp; İşe Alım</td>\n",
       "      <td>Yersonel.com gastronomi sektörüne odaklanmış k...</td>\n",
       "      <td>Yersonel.com</td>\n",
       "    </tr>\n",
       "    <tr>\n",
       "      <th>134</th>\n",
       "      <td>Smarthronline</td>\n",
       "      <td>İnsan Kaynakları &amp; İşe Alım</td>\n",
       "      <td>Online career platform connecting logistics pr...</td>\n",
       "      <td>Smarthronline</td>\n",
       "    </tr>\n",
       "    <tr>\n",
       "      <th>206</th>\n",
       "      <td>Verified by Sertifier INC.</td>\n",
       "      <td>Eğitim &amp; Eğitim Teknolojileri</td>\n",
       "      <td>Verified, Sertifier INC. tarafından geliştiril...</td>\n",
       "      <td>Sertifier</td>\n",
       "    </tr>\n",
       "    <tr>\n",
       "      <th>214</th>\n",
       "      <td>ilk-is.com</td>\n",
       "      <td>İnsan Kaynakları &amp; İşe Alım</td>\n",
       "      <td>İş arayan veya iş başvurusu yapmak isteyen her...</td>\n",
       "      <td>ilk-is</td>\n",
       "    </tr>\n",
       "    <tr>\n",
       "      <th>237</th>\n",
       "      <td>Ara</td>\n",
       "      <td>Tüketici Hizmetleri</td>\n",
       "      <td>“Türkiye’nin Hizmet Arama Motoru” sloganıyla e...</td>\n",
       "      <td>Zumbara Zaman Kumbarası</td>\n",
       "    </tr>\n",
       "    <tr>\n",
       "      <th>254</th>\n",
       "      <td>Test Invite</td>\n",
       "      <td>Eğitim &amp; Eğitim Teknolojileri</td>\n",
       "      <td>Test Invite, sınav ve ölçme-değerlendirme süre...</td>\n",
       "      <td>Test Invite</td>\n",
       "    </tr>\n",
       "    <tr>\n",
       "      <th>267</th>\n",
       "      <td>DinamikCRM</td>\n",
       "      <td>SaaS</td>\n",
       "      <td>DinamikCRM yaklaşık 1 yıl süren ürün hazırlıkl...</td>\n",
       "      <td>DinamikCRM</td>\n",
       "    </tr>\n",
       "    <tr>\n",
       "      <th>273</th>\n",
       "      <td>Bijunior</td>\n",
       "      <td>İnsan Kaynakları &amp; İşe Alım</td>\n",
       "      <td>Dijital ve Kreatif Dünyanın İş İlanı / İş Bulm...</td>\n",
       "      <td>Bijunior</td>\n",
       "    </tr>\n",
       "    <tr>\n",
       "      <th>281</th>\n",
       "      <td>Earnado</td>\n",
       "      <td>Reklam &amp; Pazarlama</td>\n",
       "      <td>Google, Facebook ve rakiplerin davranışlarında...</td>\n",
       "      <td>Earnado</td>\n",
       "    </tr>\n",
       "    <tr>\n",
       "      <th>284</th>\n",
       "      <td>Youthall</td>\n",
       "      <td>İnsan Kaynakları &amp; İşe Alım</td>\n",
       "      <td>Youthall, 2014 yılında 2 girişimci tarafından ...</td>\n",
       "      <td>Youthall</td>\n",
       "    </tr>\n",
       "    <tr>\n",
       "      <th>285</th>\n",
       "      <td>OtherSide Esports</td>\n",
       "      <td>Oyun</td>\n",
       "      <td>OtherSide Esport #actforequal destekçisi, Türk...</td>\n",
       "      <td>Others</td>\n",
       "    </tr>\n",
       "    <tr>\n",
       "      <th>286</th>\n",
       "      <td>Humanup</td>\n",
       "      <td>NaN</td>\n",
       "      <td>NaN</td>\n",
       "      <td>Humanup</td>\n",
       "    </tr>\n",
       "    <tr>\n",
       "      <th>330</th>\n",
       "      <td>Perwatch</td>\n",
       "      <td>Yazılım</td>\n",
       "      <td>Perwatch, takip verilerini gelişmiş analiz mod...</td>\n",
       "      <td>Perwatch</td>\n",
       "    </tr>\n",
       "  </tbody>\n",
       "</table>\n",
       "</div>"
      ],
      "text/plain": [
       "                          title                         sector  \\\n",
       "49         SmartCV Teknoloji AŞ    İnsan Kaynakları & İşe Alım   \n",
       "55                    FlexyTime                           SaaS   \n",
       "66                      İdenfit                        Yazılım   \n",
       "125                Yersonel.com    İnsan Kaynakları & İşe Alım   \n",
       "134               Smarthronline    İnsan Kaynakları & İşe Alım   \n",
       "206  Verified by Sertifier INC.  Eğitim & Eğitim Teknolojileri   \n",
       "214                  ilk-is.com    İnsan Kaynakları & İşe Alım   \n",
       "237                         Ara            Tüketici Hizmetleri   \n",
       "254                 Test Invite  Eğitim & Eğitim Teknolojileri   \n",
       "267                  DinamikCRM                           SaaS   \n",
       "273                    Bijunior    İnsan Kaynakları & İşe Alım   \n",
       "281                     Earnado             Reklam & Pazarlama   \n",
       "284                    Youthall    İnsan Kaynakları & İşe Alım   \n",
       "285           OtherSide Esports                           Oyun   \n",
       "286                     Humanup                            NaN   \n",
       "330                    Perwatch                        Yazılım   \n",
       "\n",
       "                                               context  \\\n",
       "49   İşe alımda oyunlaştırma teknolojisi ve ML kull...   \n",
       "55   FlexyTime evden veya ofisten verimli çalışması...   \n",
       "66   Idenfit; insan kaynakları yönetimine, bütüncül...   \n",
       "125  Yersonel.com gastronomi sektörüne odaklanmış k...   \n",
       "134  Online career platform connecting logistics pr...   \n",
       "206  Verified, Sertifier INC. tarafından geliştiril...   \n",
       "214  İş arayan veya iş başvurusu yapmak isteyen her...   \n",
       "237  “Türkiye’nin Hizmet Arama Motoru” sloganıyla e...   \n",
       "254  Test Invite, sınav ve ölçme-değerlendirme süre...   \n",
       "267  DinamikCRM yaklaşık 1 yıl süren ürün hazırlıkl...   \n",
       "273  Dijital ve Kreatif Dünyanın İş İlanı / İş Bulm...   \n",
       "281  Google, Facebook ve rakiplerin davranışlarında...   \n",
       "284  Youthall, 2014 yılında 2 girişimci tarafından ...   \n",
       "285  OtherSide Esport #actforequal destekçisi, Türk...   \n",
       "286                                                NaN   \n",
       "330  Perwatch, takip verilerini gelişmiş analiz mod...   \n",
       "\n",
       "                     matches  \n",
       "49                   SmartCV  \n",
       "55                 FlexyTime  \n",
       "66                   Idenfit  \n",
       "125             Yersonel.com  \n",
       "134            Smarthronline  \n",
       "206                Sertifier  \n",
       "214                   ilk-is  \n",
       "237  Zumbara Zaman Kumbarası  \n",
       "254              Test Invite  \n",
       "267               DinamikCRM  \n",
       "273                 Bijunior  \n",
       "281                  Earnado  \n",
       "284                 Youthall  \n",
       "285                   Others  \n",
       "286                  Humanup  \n",
       "330                 Perwatch  "
      ]
     },
     "execution_count": 148,
     "metadata": {},
     "output_type": "execute_result"
    }
   ],
   "source": [
    "marketborsa_match_df = fuzzy_merge(df_sborsa_all, df_smarket_hr, 'title', 'title', threshold=90)\n",
    "marketborsa_match_df[(marketborsa_match_df.matches != '')]"
   ]
  },
  {
   "cell_type": "markdown",
   "metadata": {},
   "source": [
    "Except some dummy matches like \n",
    "> - ara - zumbara \n",
    "> - otherside esports - others\n",
    "\n",
    "conclusions are satisfactory.\n",
    "\n",
    "With this merge we can lookup to these startups as a starter for the Turkey Market for the limited time being.\n"
   ]
  },
  {
   "cell_type": "markdown",
   "metadata": {},
   "source": [
    "#### We can look up to these startups seen as below for global market "
   ]
  },
  {
   "cell_type": "code",
   "execution_count": 162,
   "metadata": {},
   "outputs": [
    {
     "data": {
      "text/html": [
       "<div>\n",
       "<style scoped>\n",
       "    .dataframe tbody tr th:only-of-type {\n",
       "        vertical-align: middle;\n",
       "    }\n",
       "\n",
       "    .dataframe tbody tr th {\n",
       "        vertical-align: top;\n",
       "    }\n",
       "\n",
       "    .dataframe thead th {\n",
       "        text-align: right;\n",
       "    }\n",
       "</style>\n",
       "<table border=\"1\" class=\"dataframe\">\n",
       "  <thead>\n",
       "    <tr style=\"text-align: right;\">\n",
       "      <th></th>\n",
       "      <th>Technology</th>\n",
       "      <th>title</th>\n",
       "      <th>sector</th>\n",
       "      <th>location</th>\n",
       "      <th>matches</th>\n",
       "    </tr>\n",
       "  </thead>\n",
       "  <tbody>\n",
       "    <tr>\n",
       "      <th>36</th>\n",
       "      <td>SaaS</td>\n",
       "      <td>Cooleaf</td>\n",
       "      <td>Personnel / Benefits</td>\n",
       "      <td>US</td>\n",
       "      <td>Cooleaf</td>\n",
       "    </tr>\n",
       "    <tr>\n",
       "      <th>42</th>\n",
       "      <td>Marketplace</td>\n",
       "      <td>Crash</td>\n",
       "      <td>Recruiting</td>\n",
       "      <td>US</td>\n",
       "      <td>Crash</td>\n",
       "    </tr>\n",
       "    <tr>\n",
       "      <th>81</th>\n",
       "      <td>Marketplace</td>\n",
       "      <td>Nanno</td>\n",
       "      <td>Early childhood</td>\n",
       "      <td>US</td>\n",
       "      <td>nan, nan</td>\n",
       "    </tr>\n",
       "    <tr>\n",
       "      <th>86</th>\n",
       "      <td>SaaS</td>\n",
       "      <td>YellowDig</td>\n",
       "      <td>College &amp; Continuing Education</td>\n",
       "      <td>US</td>\n",
       "      <td>Yello</td>\n",
       "    </tr>\n",
       "    <tr>\n",
       "      <th>87</th>\n",
       "      <td>Cloud / Content</td>\n",
       "      <td>OKpanda</td>\n",
       "      <td>College / Continuing education</td>\n",
       "      <td>Japan</td>\n",
       "      <td>KPA</td>\n",
       "    </tr>\n",
       "    <tr>\n",
       "      <th>153</th>\n",
       "      <td>SaaS</td>\n",
       "      <td>15Five</td>\n",
       "      <td>Personnel / Benefits</td>\n",
       "      <td>US</td>\n",
       "      <td>15Five</td>\n",
       "    </tr>\n",
       "    <tr>\n",
       "      <th>158</th>\n",
       "      <td>SaaS</td>\n",
       "      <td>Resource</td>\n",
       "      <td>Recruiting</td>\n",
       "      <td>US</td>\n",
       "      <td>Society for Human Resource Management</td>\n",
       "    </tr>\n",
       "    <tr>\n",
       "      <th>194</th>\n",
       "      <td>Marketplace</td>\n",
       "      <td>WorkAmerica</td>\n",
       "      <td>Recruiting</td>\n",
       "      <td>US</td>\n",
       "      <td>WorkAmerica</td>\n",
       "    </tr>\n",
       "    <tr>\n",
       "      <th>218</th>\n",
       "      <td>Cloud / Content</td>\n",
       "      <td>ThinkParametric</td>\n",
       "      <td>Professional training</td>\n",
       "      <td>Mexico</td>\n",
       "      <td>KPA</td>\n",
       "    </tr>\n",
       "    <tr>\n",
       "      <th>260</th>\n",
       "      <td>-</td>\n",
       "      <td>Greenhouse</td>\n",
       "      <td>Infrastructure</td>\n",
       "      <td>Singapore</td>\n",
       "      <td>Greenhouse Software</td>\n",
       "    </tr>\n",
       "  </tbody>\n",
       "</table>\n",
       "</div>"
      ],
      "text/plain": [
       "          Technology            title                          sector  \\\n",
       "36              SaaS          Cooleaf            Personnel / Benefits   \n",
       "42       Marketplace            Crash                      Recruiting   \n",
       "81       Marketplace            Nanno                 Early childhood   \n",
       "86              SaaS        YellowDig  College & Continuing Education   \n",
       "87   Cloud / Content          OKpanda  College / Continuing education   \n",
       "153             SaaS           15Five            Personnel / Benefits   \n",
       "158             SaaS         Resource                      Recruiting   \n",
       "194      Marketplace      WorkAmerica                      Recruiting   \n",
       "218  Cloud / Content  ThinkParametric           Professional training   \n",
       "260                -       Greenhouse                  Infrastructure   \n",
       "\n",
       "      location                                matches  \n",
       "36          US                                Cooleaf  \n",
       "42          US                                  Crash  \n",
       "81          US                               nan, nan  \n",
       "86          US                                  Yello  \n",
       "87       Japan                                    KPA  \n",
       "153         US                                 15Five  \n",
       "158         US  Society for Human Resource Management  \n",
       "194         US                            WorkAmerica  \n",
       "218     Mexico                                    KPA  \n",
       "260  Singapore                    Greenhouse Software  "
      ]
     },
     "execution_count": 162,
     "metadata": {},
     "output_type": "execute_result"
    }
   ],
   "source": [
    "df_builtin_hr['title'] = df_builtin_hr['title'].apply(str)\n",
    "builtin500_match_df = fuzzy_merge(df_500_hr, df_builtin_hr, 'title', 'title', threshold=90)\n",
    "builtin500_match_df[(builtin500_match_df.matches != '')]"
   ]
  },
  {
   "cell_type": "markdown",
   "metadata": {},
   "source": [
    "Of course these dataframes do not include all startups that can be investigated.  \n",
    "This can be only a point of view to start looking up while broading up perspective and maybe a way to automate some dataflow.\n",
    "Addition to datasets might be helpful from sites such as ANGEL LIST.\n",
    "For the right insights there are too many parameters to handle."
   ]
  },
  {
   "cell_type": "markdown",
   "metadata": {},
   "source": [
    "## One theme that sticks out in this outcome of HR startups is recruiting. Several organizations are focused on improving recruiting and hiring processes, whether by offering employers with skills evaluation tools, employing artificial intelligence to analyze job candidates, or establishing better job matching platforms of course while enabling remote work.\n",
    "\n",
    "## In addition to this, the organizations included above show a rising interest in digitizing standard HR procedures and providing next-level employee engagement and development services.\n",
    "\n",
    "## My personal evaluation for the trends in this manner comes down to several headlines. These startups are not limited to analyzed data also there are additions with aid of manuel research\n",
    "### 1. Improving Support For Remote Work And Hiring.  \n",
    "#### RemoteTeam\n",
    "        - All-in-one operating system that provides HR solutions to your remote team\n",
    "#### Flexytime\n",
    "        - Exterminates the cons of remote working for manager monitorizing\n",
    "### 2. Supporting Employees’ Physical, Mental, And Emotional Well-Being.  \n",
    "#### Cooleaf\n",
    "        - All-in-one engagement software\n",
    "### 3. Investing In Learning & Development.  \n",
    "#### 15Five\n",
    "        - Foster transparency, accountability, and quality feedback.\n",
    "        - Optimize remote and distributed teams. \n",
    "#### Test Invite\n",
    "        - Also all inclusive approach of assesment phase\n",
    "### 4. Upgrading Processes With AI And Automation.  \n",
    "####    SeekOut\n",
    "            - Feeds on data and have features like AI matching , AI-Powered Talent Search Engine\n",
    "####    SmartCV\n",
    "            - Leads less work to recruiters by eliminating candidates by AI"
   ]
  }
 ],
 "metadata": {
  "interpreter": {
   "hash": "ac59ebe37160ed0dfa835113d9b8498d9f09ceb179beaac4002f036b9467c963"
  },
  "kernelspec": {
   "display_name": "Python 3.9.5 64-bit",
   "language": "python",
   "name": "python3"
  },
  "language_info": {
   "codemirror_mode": {
    "name": "ipython",
    "version": 3
   },
   "file_extension": ".py",
   "mimetype": "text/x-python",
   "name": "python",
   "nbconvert_exporter": "python",
   "pygments_lexer": "ipython3",
   "version": "3.9.5"
  },
  "orig_nbformat": 4
 },
 "nbformat": 4,
 "nbformat_minor": 2
}
